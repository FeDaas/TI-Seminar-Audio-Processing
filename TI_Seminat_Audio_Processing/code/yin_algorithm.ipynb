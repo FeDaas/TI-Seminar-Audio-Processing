{
 "cells": [
  {
   "cell_type": "code",
   "execution_count": 23,
   "metadata": {},
   "outputs": [],
   "source": [
    "import numpy as np \t\t\t\t\t\t\t\t\t\t\t\t\t\t\t\t\t\t\t\t\t\t\t\t\t\t\t\t\t\t# type: ignore"
   ]
  },
  {
   "cell_type": "code",
   "execution_count": 24,
   "metadata": {},
   "outputs": [],
   "source": [
    "def f(x):\n",
    "\tf_0 = 1\n",
    "\tenvelope = lambda x : np.exp(-x)  \t\t\t\t\t\t\t\t\t\t\t\t\t\t\t\t\t\t\t\t\t\t\t\t\t# noqa: E731\n",
    "\treturn np.sin(x * np.pi * 2 * f_0) * envelope(x)"
   ]
  },
  {
   "cell_type": "code",
   "execution_count": 25,
   "metadata": {},
   "outputs": [],
   "source": [
    "def ACF(f, W, t, lag):\n",
    "\treturn np.sum(\n",
    "\t\tf[t : t + W] *\n",
    "\t\tf[lag + t : lag + t +W]\n",
    "\t)"
   ]
  },
  {
   "cell_type": "code",
   "execution_count": 26,
   "metadata": {},
   "outputs": [],
   "source": [
    "def detect_pitch(f, W, t, sample_rate, bounds):\n",
    "\tACF_vals = [ACF(f,W,t,i) for i in range(*bounds)]\n",
    "\tsample = np.argmax(ACF_vals) + bounds[0]\n",
    "\treturn sample_rate/ sample"
   ]
  },
  {
   "cell_type": "code",
   "execution_count": 27,
   "metadata": {},
   "outputs": [
    {
     "name": "stdout",
     "output_type": "stream",
     "text": [
      "25.0\n"
     ]
    }
   ],
   "source": [
    "sample_rate = 500\n",
    "start = 0\n",
    "end = 5\n",
    "num_samples = int(sample_rate * (end - start) + 1)\n",
    "window_size = 200\n",
    "bounds = [20, num_samples // 2]\n",
    "\n",
    "x = np.linspace(start, end, num_samples)\n",
    "print(detect_pitch(f(x), window_size, 1, sample_rate, bounds))"
   ]
  },
  {
   "cell_type": "code",
   "execution_count": 28,
   "metadata": {},
   "outputs": [],
   "source": [
    "def DF(f, W, t, lag):\n",
    "\treturn ACF(f, W, t, 0)\\\n",
    "\t\t+ ACF(f, W, t + lag, 0)\\\n",
    "\t\t- (2 * ACF(f, W, t, lag))"
   ]
  },
  {
   "cell_type": "code",
   "execution_count": 30,
   "metadata": {},
   "outputs": [],
   "source": [
    "def df_detect_pitch(f, W, t, sample_rate, bounds):\n",
    "\tDF_vals = [DF(f, W, t, i) for i in range(*bounds)]\n",
    "\tsample = np.argmin(DF_vals) + bounds[0]\n",
    "\treturn sample_rate/sample"
   ]
  },
  {
   "cell_type": "code",
   "execution_count": 29,
   "metadata": {},
   "outputs": [],
   "source": [
    "def CMNDF(f, W, t, lag):\n",
    "\tif lag == 0:\n",
    "\t\treturn 1\n",
    "\treturn DF(f, W, t, lag)/ np.sum([DF(f, W, t, j + 1) for j in range(lag)]) * lag"
   ]
  },
  {
   "cell_type": "code",
   "execution_count": 32,
   "metadata": {},
   "outputs": [],
   "source": [
    "def cmndf_detect_pitch(f, W, t, sample_rate, bounds, thresh = 0.1):\n",
    "\tCMNDF_vals = [CMNDF(f, W, t, i) for i in range(*bounds)]\n",
    "\tsample = np.argmin(CMNDF_vals) + bounds[0]\n",
    "\n",
    "\tif sample > thresh:\n",
    "\t\tsample = 0\n",
    "\t\tpass\n",
    "\n",
    "\treturn sample_rate / sample"
   ]
  },
  {
   "cell_type": "code",
   "execution_count": null,
   "metadata": {},
   "outputs": [],
   "source": [
    "def cmndf_detect_pitch_no_threshold(f, W, t, sample_rate, bounds):\n",
    "\tCMNDF_vals = [CMNDF(f, W, t, i) for i in range(*bounds)]\n",
    "\tsample = np.argmin(CMNDF_vals) + bounds[0]\n",
    "\treturn sample_rate / sample"
   ]
  },
  {
   "cell_type": "code",
   "execution_count": null,
   "metadata": {},
   "outputs": [],
   "source": [
    "#sample_rate, data = scipy.io.wavfile.read(\"singer.wav\")\n",
    "#data = data.astype(np.float64)\n",
    "#window_size = int (5 / 2000 * sample_rate)\n",
    "#bounds = [20, 2000]\n",
    "#data = data[:,0]\n",
    "#plt.plot(data)\n",
    "\n",
    "#pitches = []\n",
    "#for i in range(data.shape[0] // (window_size + 3)):\n",
    "#\tprint(i)\n",
    "#\tpitches.append(\n",
    "#\t\tcmndf_detect_pitch(\n",
    "#\t\t\tdata,\n",
    "#\t\t\twindow_size,\n",
    "#\t\t\ti * window_size,\n",
    "#\t\t\tsample_rate,\n",
    "#\t\t\tbounds\n",
    "#\t\t)\n",
    "#\t)\n",
    "#plt.plot(pitches)\n",
    "#print(pitches)\n",
    "#print(np.max(pitches))\n",
    "#plt.show"
   ]
  }
 ],
 "metadata": {
  "kernelspec": {
   "display_name": "Python 3",
   "language": "python",
   "name": "python3"
  },
  "language_info": {
   "codemirror_mode": {
    "name": "ipython",
    "version": 3
   },
   "file_extension": ".py",
   "mimetype": "text/x-python",
   "name": "python",
   "nbconvert_exporter": "python",
   "pygments_lexer": "ipython3",
   "version": "3.10.5"
  }
 },
 "nbformat": 4,
 "nbformat_minor": 2
}
